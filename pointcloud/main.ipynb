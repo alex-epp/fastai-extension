{
 "cells": [
  {
   "cell_type": "code",
   "execution_count": 1,
   "metadata": {
    "collapsed": false
   },
   "outputs": [
    {
     "name": "stderr",
     "output_type": "stream",
     "text": [
      "C:\\src\\fastai-extension\\pointcloud\\models\\pointnet\\utils\\pointnet2_utils.py:11: UserWarning: Can't import pointnet2_cuda. Did you compile the pointnet cuda kernals?\n  warn('Can\\'t import pointnet2_cuda. Did you compile the pointnet cuda kernals?')\n"
     ]
    }
   ],
   "source": [
    "from pointcloud import *"
   ]
  },
  {
   "cell_type": "code",
   "execution_count": 14,
   "metadata": {},
   "outputs": [],
   "source": [
    "data = (PtCloudList.from_folder('test-data')\n",
    "            .voxel_sample(0.02, 'x')\n",
    "            .chunkify(1)\n",
    "            .norm_xyz()\n",
    "            .random_sample(1024)\n",
    "            .split_by_rand_pct()\n",
    "            .label_from_field('x')\n",
    "            .databunch(bs=3)\n",
    "            )  # type: PtCloudDataBunch"
   ]
  },
  {
   "cell_type": "code",
   "execution_count": 9,
   "metadata": {},
   "outputs": [
    {
     "data": {
      "text/html": [
       "\n",
       "        <iframe\n",
       "            width=\"800\"\n",
       "            height=\"500\"\n",
       "            src=\"pyntcloud_plot.html\"\n",
       "            frameborder=\"0\"\n",
       "            allowfullscreen\n",
       "        ></iframe>\n",
       "        "
      ],
      "text/plain": [
       "\n",
       "        <iframe\n",
       "            width=\"800\"\n",
       "            height=\"500\"\n",
       "            src=\"pyntcloud_plot.html\"\n",
       "            frameborder=\"0\"\n",
       "            allowfullscreen\n",
       "        ></iframe>\n",
       "        "
      ]
     },
     "execution_count": 9,
     "metadata": {},
     "output_type": "execute_result"
    }
   ],
   "source": [
    "data.train_ds.x.pt_clouds[0].plot(backend='threejs')"
   ]
  },
  {
   "cell_type": "code",
   "execution_count": 15,
   "metadata": {},
   "outputs": [],
   "source": [
    "for i, p in enumerate(data.train_ds.x.pt_clouds):\n",
    "    p.to_file(f'test{i}.ply')"
   ]
  }
 ],
 "metadata": {
  "kernelspec": {
   "display_name": "Python 2",
   "language": "python",
   "name": "python2"
  },
  "language_info": {
   "codemirror_mode": {
    "name": "ipython",
    "version": 2
   },
   "file_extension": ".py",
   "mimetype": "text/x-python",
   "name": "python",
   "nbconvert_exporter": "python",
   "pygments_lexer": "ipython2",
   "version": "2.7.6"
  }
 },
 "nbformat": 4,
 "nbformat_minor": 0
}
